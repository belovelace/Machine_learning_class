{
  "nbformat": 4,
  "nbformat_minor": 0,
  "metadata": {
    "colab": {
      "provenance": [],
      "gpuType": "T4",
      "authorship_tag": "ABX9TyNjV8EwVFvyQh0mPuji8KEJ",
      "include_colab_link": true
    },
    "kernelspec": {
      "name": "python3",
      "display_name": "Python 3"
    },
    "language_info": {
      "name": "python"
    },
    "accelerator": "GPU"
  },
  "cells": [
    {
      "cell_type": "markdown",
      "metadata": {
        "id": "view-in-github",
        "colab_type": "text"
      },
      "source": [
        "<a href=\"https://colab.research.google.com/github/belovelace/Machine_learning_class/blob/main/MNIST_CNN.ipynb\" target=\"_parent\"><img src=\"https://colab.research.google.com/assets/colab-badge.svg\" alt=\"Open In Colab\"/></a>"
      ]
    },
    {
      "cell_type": "markdown",
      "source": [
        "1. MNIST 패션 데이터 DNN으로 구현\n",
        "\n",
        "2. MNIST 패션 데이터 CNN으로 구현\n",
        "\n",
        "3. CIFAR 10 3개 분류(개, 고양이, 말)"
      ],
      "metadata": {
        "id": "HSL0eytBbhqj"
      }
    },
    {
      "cell_type": "code",
      "execution_count": 17,
      "metadata": {
        "id": "JbF7fQpLbgQD"
      },
      "outputs": [],
      "source": [
        "import tensorflow as tf\n",
        "from tensorflow.keras import datasets, layers, models\n",
        "from tensorflow.keras.utils import to_categorical\n",
        "import numpy as np\n",
        "import matplotlib.pyplot as plt"
      ]
    },
    {
      "cell_type": "markdown",
      "source": [
        "# 데이터 불러오기 및 정규화"
      ],
      "metadata": {
        "id": "-Tq_2PUgbrPb"
      }
    },
    {
      "cell_type": "code",
      "source": [
        "# 데이터 로드\n",
        "(train_images, train_labels), (test_images, test_labels) =datasets.mnist.load_data()\n",
        "train_images = train_images.reshape((60000, 28, 28, 1))\n",
        "test_images = test_images.reshape((10000, 28, 28, 1))\n",
        "\n",
        "# 픽셀 값 정규화한다 (0~1 사이)\n",
        "train_images, test_images = train_images / 255.0, test_images / 255.0"
      ],
      "metadata": {
        "id": "athoeHzHbt5B"
      },
      "execution_count": 18,
      "outputs": []
    },
    {
      "cell_type": "markdown",
      "source": [
        "# 모델 생성\n",
        "\n",
        "- Conv2D - 이미지 특징 추출\n",
        "- MaxPooling2D - 중요한 특징만 선택\n",
        "- Flatten - CNN → Dense 연결\n",
        "- Dense - 최종 분류"
      ],
      "metadata": {
        "id": "mSRu63TTcSku"
      }
    },
    {
      "cell_type": "code",
      "source": [
        "model = models.Sequential()\n",
        "\n",
        "# CNN 사용 시(Input 레이어 추가)\n",
        "model.add(layers.Input(shape=(28, 28, 1))) #입력: 28*28 흑백 이미지\n",
        "model.add(layers.Conv2D(32, (3, 3), activation='relu'))\n",
        "model.add(layers.MaxPooling2D((2, 2)))\n",
        "model.add(layers.Conv2D(64, (3, 3), activation='relu'))\n",
        "model.add(layers.MaxPooling2D((2, 2)))\n",
        "model.add(layers.Flatten())  # 1차원으로 변환\n",
        "model.add(layers.Dense(64, activation='relu')) # 분류를 위한 은닉층\n",
        "model.add(layers.Dense(10, activation='softmax')) # 10개의 클래스 출력\n",
        "\n",
        "# DNN 사용 시(최신 Keras 스타일에 맞춤)\n",
        "# model.add(layers.Input(shape=(28, 28)))\n",
        "# model.add(layers.Flatten())\n",
        "# model.add(layers.Dense(256, activation='relu')) # 비선형성 추가\n",
        "# model.add(layers.Dropout(0.3))\n",
        "# model.add(layers.Dense(128, activation='relu')) #왜 두번 사용 하는가? 네트위크의 깊이?\n",
        "# model.add(layers.Dropout(0.3))\n",
        "# model.add(layers.Dense(10, activation='softmax'))\n",
        "\n",
        "# 컴파일\n",
        "model.compile(optimizer='adam',\n",
        "                  loss='sparse_categorical_crossentropy',\n",
        "                  metrics=['accuracy'])"
      ],
      "metadata": {
        "id": "iIqx6dfIcV9-"
      },
      "execution_count": 19,
      "outputs": []
    },
    {
      "cell_type": "markdown",
      "source": [
        "# 학습과 평가"
      ],
      "metadata": {
        "id": "C9jF6jkzeQ89"
      }
    },
    {
      "cell_type": "code",
      "source": [
        "# 학습\n",
        "history = model.fit(\n",
        "    train_images, train_labels,\n",
        "    epochs=10,\n",
        "    validation_split=0.1,\n",
        "    batch_size=128,\n",
        "    verbose=2\n",
        ")\n",
        "\n",
        "# 평가\n",
        "test_loss, test_acc = model.evaluate(test_images, test_labels, verbose=2)\n",
        "print(f\"DNN Test Accuracy: {test_acc:.4f}\")"
      ],
      "metadata": {
        "colab": {
          "base_uri": "https://localhost:8080/"
        },
        "id": "wK90woASdNIB",
        "outputId": "1c6a57af-ab27-46d5-c6ef-d1fc99057bcd"
      },
      "execution_count": 16,
      "outputs": [
        {
          "output_type": "stream",
          "name": "stdout",
          "text": [
            "Epoch 1/10\n",
            "422/422 - 6s - 15ms/step - accuracy: 0.9268 - loss: 0.2478 - val_accuracy: 0.9823 - val_loss: 0.0691\n",
            "Epoch 2/10\n",
            "422/422 - 2s - 4ms/step - accuracy: 0.9793 - loss: 0.0673 - val_accuracy: 0.9845 - val_loss: 0.0483\n",
            "Epoch 3/10\n",
            "422/422 - 2s - 4ms/step - accuracy: 0.9849 - loss: 0.0491 - val_accuracy: 0.9883 - val_loss: 0.0417\n",
            "Epoch 4/10\n",
            "422/422 - 2s - 4ms/step - accuracy: 0.9885 - loss: 0.0367 - val_accuracy: 0.9887 - val_loss: 0.0381\n",
            "Epoch 5/10\n",
            "422/422 - 2s - 4ms/step - accuracy: 0.9911 - loss: 0.0291 - val_accuracy: 0.9885 - val_loss: 0.0401\n",
            "Epoch 6/10\n",
            "422/422 - 2s - 4ms/step - accuracy: 0.9924 - loss: 0.0245 - val_accuracy: 0.9903 - val_loss: 0.0366\n",
            "Epoch 7/10\n",
            "422/422 - 2s - 4ms/step - accuracy: 0.9935 - loss: 0.0199 - val_accuracy: 0.9890 - val_loss: 0.0398\n",
            "Epoch 8/10\n",
            "422/422 - 2s - 5ms/step - accuracy: 0.9945 - loss: 0.0165 - val_accuracy: 0.9873 - val_loss: 0.0499\n",
            "Epoch 9/10\n",
            "422/422 - 2s - 4ms/step - accuracy: 0.9952 - loss: 0.0151 - val_accuracy: 0.9893 - val_loss: 0.0410\n",
            "Epoch 10/10\n",
            "422/422 - 2s - 4ms/step - accuracy: 0.9965 - loss: 0.0105 - val_accuracy: 0.9912 - val_loss: 0.0419\n",
            "313/313 - 2s - 5ms/step - accuracy: 0.9898 - loss: 0.0404\n",
            "DNN Test Accuracy: 0.9898\n"
          ]
        }
      ]
    }
  ]
}