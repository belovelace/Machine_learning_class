{
  "nbformat": 4,
  "nbformat_minor": 0,
  "metadata": {
    "colab": {
      "provenance": [],
      "authorship_tag": "ABX9TyMBGJBy5hZ/OmL5zPXBywEQ",
      "include_colab_link": true
    },
    "kernelspec": {
      "name": "python3",
      "display_name": "Python 3"
    },
    "language_info": {
      "name": "python"
    }
  },
  "cells": [
    {
      "cell_type": "markdown",
      "metadata": {
        "id": "view-in-github",
        "colab_type": "text"
      },
      "source": [
        "<a href=\"https://colab.research.google.com/github/belovelace/Machine_learning_class/blob/main/Assignment_Data_processing.ipynb\" target=\"_parent\"><img src=\"https://colab.research.google.com/assets/colab-badge.svg\" alt=\"Open In Colab\"/></a>"
      ]
    },
    {
      "cell_type": "markdown",
      "source": [
        "# Import"
      ],
      "metadata": {
        "id": "K-9-MCZO-vLX"
      }
    },
    {
      "cell_type": "code",
      "metadata": {
        "colab": {
          "base_uri": "https://localhost:8080/"
        },
        "id": "44ae1d10",
        "outputId": "e3c117bb-aa93-41a5-e3ec-c7e6720e4424"
      },
      "source": [
        "!pip install pykrx pymysql\n",
        "!sudo apt-get install python3-dev default-libmysqlclient-dev\n",
        "!pip install pymysql"
      ],
      "execution_count": 1,
      "outputs": [
        {
          "output_type": "stream",
          "name": "stdout",
          "text": [
            "Collecting pykrx\n",
            "  Downloading pykrx-1.0.51-py3-none-any.whl.metadata (61 kB)\n",
            "\u001b[?25l     \u001b[90m━━━━━━━━━━━━━━━━━━━━━━━━━━━━━━━━━━━━━━━━\u001b[0m \u001b[32m0.0/61.1 kB\u001b[0m \u001b[31m?\u001b[0m eta \u001b[36m-:--:--\u001b[0m\r\u001b[2K     \u001b[90m━━━━━━━━━━━━━━━━━━━━━━━━━━━━━━━━━━━━━━━━\u001b[0m \u001b[32m61.1/61.1 kB\u001b[0m \u001b[31m2.2 MB/s\u001b[0m eta \u001b[36m0:00:00\u001b[0m\n",
            "\u001b[?25hCollecting pymysql\n",
            "  Downloading pymysql-1.1.2-py3-none-any.whl.metadata (4.3 kB)\n",
            "Requirement already satisfied: requests in /usr/local/lib/python3.12/dist-packages (from pykrx) (2.32.4)\n",
            "Requirement already satisfied: pandas in /usr/local/lib/python3.12/dist-packages (from pykrx) (2.2.2)\n",
            "Collecting datetime (from pykrx)\n",
            "  Downloading DateTime-5.5-py3-none-any.whl.metadata (33 kB)\n",
            "Requirement already satisfied: numpy in /usr/local/lib/python3.12/dist-packages (from pykrx) (2.0.2)\n",
            "Requirement already satisfied: xlrd in /usr/local/lib/python3.12/dist-packages (from pykrx) (2.0.2)\n",
            "Collecting deprecated (from pykrx)\n",
            "  Downloading Deprecated-1.2.18-py2.py3-none-any.whl.metadata (5.7 kB)\n",
            "Requirement already satisfied: multipledispatch in /usr/local/lib/python3.12/dist-packages (from pykrx) (1.0.0)\n",
            "Requirement already satisfied: matplotlib in /usr/local/lib/python3.12/dist-packages (from pykrx) (3.10.0)\n",
            "Collecting zope.interface (from datetime->pykrx)\n",
            "  Downloading zope_interface-8.0.1-cp312-cp312-manylinux1_x86_64.manylinux2014_x86_64.manylinux_2_17_x86_64.manylinux_2_5_x86_64.whl.metadata (44 kB)\n",
            "\u001b[2K     \u001b[90m━━━━━━━━━━━━━━━━━━━━━━━━━━━━━━━━━━━━━━━━\u001b[0m \u001b[32m44.9/44.9 kB\u001b[0m \u001b[31m2.0 MB/s\u001b[0m eta \u001b[36m0:00:00\u001b[0m\n",
            "\u001b[?25hRequirement already satisfied: pytz in /usr/local/lib/python3.12/dist-packages (from datetime->pykrx) (2025.2)\n",
            "Requirement already satisfied: wrapt<2,>=1.10 in /usr/local/lib/python3.12/dist-packages (from deprecated->pykrx) (1.17.3)\n",
            "Requirement already satisfied: contourpy>=1.0.1 in /usr/local/lib/python3.12/dist-packages (from matplotlib->pykrx) (1.3.3)\n",
            "Requirement already satisfied: cycler>=0.10 in /usr/local/lib/python3.12/dist-packages (from matplotlib->pykrx) (0.12.1)\n",
            "Requirement already satisfied: fonttools>=4.22.0 in /usr/local/lib/python3.12/dist-packages (from matplotlib->pykrx) (4.60.0)\n",
            "Requirement already satisfied: kiwisolver>=1.3.1 in /usr/local/lib/python3.12/dist-packages (from matplotlib->pykrx) (1.4.9)\n",
            "Requirement already satisfied: packaging>=20.0 in /usr/local/lib/python3.12/dist-packages (from matplotlib->pykrx) (25.0)\n",
            "Requirement already satisfied: pillow>=8 in /usr/local/lib/python3.12/dist-packages (from matplotlib->pykrx) (11.3.0)\n",
            "Requirement already satisfied: pyparsing>=2.3.1 in /usr/local/lib/python3.12/dist-packages (from matplotlib->pykrx) (3.2.4)\n",
            "Requirement already satisfied: python-dateutil>=2.7 in /usr/local/lib/python3.12/dist-packages (from matplotlib->pykrx) (2.9.0.post0)\n",
            "Requirement already satisfied: tzdata>=2022.7 in /usr/local/lib/python3.12/dist-packages (from pandas->pykrx) (2025.2)\n",
            "Requirement already satisfied: charset_normalizer<4,>=2 in /usr/local/lib/python3.12/dist-packages (from requests->pykrx) (3.4.3)\n",
            "Requirement already satisfied: idna<4,>=2.5 in /usr/local/lib/python3.12/dist-packages (from requests->pykrx) (3.10)\n",
            "Requirement already satisfied: urllib3<3,>=1.21.1 in /usr/local/lib/python3.12/dist-packages (from requests->pykrx) (2.5.0)\n",
            "Requirement already satisfied: certifi>=2017.4.17 in /usr/local/lib/python3.12/dist-packages (from requests->pykrx) (2025.8.3)\n",
            "Requirement already satisfied: six>=1.5 in /usr/local/lib/python3.12/dist-packages (from python-dateutil>=2.7->matplotlib->pykrx) (1.17.0)\n",
            "Downloading pykrx-1.0.51-py3-none-any.whl (2.2 MB)\n",
            "\u001b[2K   \u001b[90m━━━━━━━━━━━━━━━━━━━━━━━━━━━━━━━━━━━━━━━━\u001b[0m \u001b[32m2.2/2.2 MB\u001b[0m \u001b[31m27.0 MB/s\u001b[0m eta \u001b[36m0:00:00\u001b[0m\n",
            "\u001b[?25hDownloading pymysql-1.1.2-py3-none-any.whl (45 kB)\n",
            "\u001b[2K   \u001b[90m━━━━━━━━━━━━━━━━━━━━━━━━━━━━━━━━━━━━━━━━\u001b[0m \u001b[32m45.3/45.3 kB\u001b[0m \u001b[31m1.9 MB/s\u001b[0m eta \u001b[36m0:00:00\u001b[0m\n",
            "\u001b[?25hDownloading DateTime-5.5-py3-none-any.whl (52 kB)\n",
            "\u001b[2K   \u001b[90m━━━━━━━━━━━━━━━━━━━━━━━━━━━━━━━━━━━━━━━━\u001b[0m \u001b[32m52.6/52.6 kB\u001b[0m \u001b[31m1.8 MB/s\u001b[0m eta \u001b[36m0:00:00\u001b[0m\n",
            "\u001b[?25hDownloading Deprecated-1.2.18-py2.py3-none-any.whl (10.0 kB)\n",
            "Downloading zope_interface-8.0.1-cp312-cp312-manylinux1_x86_64.manylinux2014_x86_64.manylinux_2_17_x86_64.manylinux_2_5_x86_64.whl (264 kB)\n",
            "\u001b[2K   \u001b[90m━━━━━━━━━━━━━━━━━━━━━━━━━━━━━━━━━━━━━━━━\u001b[0m \u001b[32m264.7/264.7 kB\u001b[0m \u001b[31m9.8 MB/s\u001b[0m eta \u001b[36m0:00:00\u001b[0m\n",
            "\u001b[?25hInstalling collected packages: zope.interface, pymysql, deprecated, datetime, pykrx\n",
            "Successfully installed datetime-5.5 deprecated-1.2.18 pykrx-1.0.51 pymysql-1.1.2 zope.interface-8.0.1\n",
            "Reading package lists... Done\n",
            "Building dependency tree... Done\n",
            "Reading state information... Done\n",
            "default-libmysqlclient-dev is already the newest version (1.0.8).\n",
            "default-libmysqlclient-dev set to manually installed.\n",
            "python3-dev is already the newest version (3.10.6-1~22.04.1).\n",
            "python3-dev set to manually installed.\n",
            "0 upgraded, 0 newly installed, 0 to remove and 38 not upgraded.\n",
            "Requirement already satisfied: pymysql in /usr/local/lib/python3.12/dist-packages (1.1.2)\n"
          ]
        }
      ]
    },
    {
      "cell_type": "code",
      "execution_count": 2,
      "metadata": {
        "id": "nOf5gxiO90nj"
      },
      "outputs": [],
      "source": [
        "import pandas as pd\n",
        "import numpy as np\n",
        "import matplotlib.pyplot as plt\n",
        "import matplotlib.dates as mdates\n",
        "from datetime import datetime, timedelta\n",
        "import pymysql\n",
        "import warnings\n",
        "warnings.filterwarnings('ignore')"
      ]
    },
    {
      "cell_type": "code",
      "source": [
        "# 한글 폰트 설정\n",
        "plt.rcParams['font.family'] = 'Malgun Gothic'  # Windows\n",
        "# plt.rcParams['font.family'] = 'AppleGothic'  # Mac\n",
        "plt.rcParams['axes.unicode_minus'] = False"
      ],
      "metadata": {
        "id": "hMDcY1XM-2ul"
      },
      "execution_count": 3,
      "outputs": []
    },
    {
      "cell_type": "code",
      "source": [
        "try:\n",
        "    from pykrx import stock\n",
        "    import pymysql\n",
        "    print(\"필요한 라이브러리가 모두 설치되어 있습니다.\")\n",
        "except ImportError as e:\n",
        "    print(f\"라이브러리 설치가 필요합니다: {e}\")\n",
        "    print(\"pip install pykrx pymysql를 실행해주세요.\")"
      ],
      "metadata": {
        "colab": {
          "base_uri": "https://localhost:8080/"
        },
        "id": "ojK7i4ty-5CY",
        "outputId": "c867f2f3-f3ae-4116-bdfc-5f81f3274f51"
      },
      "execution_count": 4,
      "outputs": [
        {
          "output_type": "stream",
          "name": "stdout",
          "text": [
            "필요한 라이브러리가 모두 설치되어 있습니다.\n"
          ]
        }
      ]
    },
    {
      "cell_type": "markdown",
      "source": [
        "# MySQL 데이터베이스 연결 함수"
      ],
      "metadata": {
        "id": "-xhAIoHp-6b_"
      }
    },
    {
      "cell_type": "code",
      "source": [
        "def connect_mysql_basic():\n",
        "    \"\"\"기본적인 pymysql 연결\"\"\"\n",
        "    try:\n",
        "        connection = pymysql.connect(\n",
        "            host='127.0.0.1',        # MySQL 서버 주소\n",
        "            port=3306,\n",
        "            user='root',             # 실제 사용자명 (예: root)\n",
        "            password='1111',# 실제 비밀번호 입력\n",
        "            database='data_processing',  # 사용할 DB 이름\n",
        "            charset='utf8mb4'\n",
        "        )\n",
        "        print(\"✅ 데이터베이스 연결 성공!\")\n",
        "        return connection\n",
        "    except Exception as e:\n",
        "        print(f\"❌ 연결 실패: {e}\")\n",
        "        return None\n",
        "\n",
        "# 연결 테스트\n",
        "connection = connect_mysql_basic()\n",
        "if connection:\n",
        "    cursor = connection.cursor()\n",
        "    cursor.execute(\"SELECT VERSION()\")\n",
        "    version = cursor.fetchone()\n",
        "    print(f\"MySQL 버전: {version}\")\n",
        "    connection.close()"
      ],
      "metadata": {
        "colab": {
          "base_uri": "https://localhost:8080/"
        },
        "id": "c_sJFBxwXTvL",
        "outputId": "bfe102d0-ba9a-43ef-ecf0-cf06c130bd64"
      },
      "execution_count": 14,
      "outputs": [
        {
          "output_type": "stream",
          "name": "stdout",
          "text": [
            "❌ 연결 실패: (2003, \"Can't connect to MySQL server on '127.0.0.1' ([Errno 111] Connection refused)\")\n"
          ]
        }
      ]
    },
    {
      "cell_type": "markdown",
      "source": [
        "# 문제 1:\n",
        " *KOSPI 구성종목 중 매출액 증가 상위 20개 기업 (자본금 1000억 이상)*"
      ],
      "metadata": {
        "id": "rNxDal6H-9qp"
      }
    },
    {
      "cell_type": "code",
      "source": [
        "def problem1_sales_growth_analysis():\n",
        "    \"\"\"\n",
        "    KOSPI 구성종목에서 전년(2023년) 대비 2024년도 매출액이 크게 증가한\n",
        "    기업 상위 20개를 추출 (자본금 1000억 이상)\n",
        "    \"\"\"\n",
        "    print(\"=\" * 60)\n",
        "    print(\"문제 1: KOSPI 매출액 증가 상위 20개 기업 분석\")\n",
        "    print(\"=\" * 60)\n",
        "\n",
        "    # KOSPI 구성종목 리스트 가져오기\n",
        "    today = datetime.now().strftime(\"%Y%m%d\")\n",
        "    kospi_stocks = stock.get_market_ticker_list(today, market=\"KOSPI\")\n",
        "\n",
        "    results = []\n",
        "\n",
        "    connection = connect_to_db() # Use the existing connection function\n",
        "    if connection is None:\n",
        "        print(\"데이터베이스 연결에 실패했습니다.\")\n",
        "        return pd.DataFrame() # Return empty DataFrame if connection fails\n",
        "\n",
        "    try:\n",
        "        with connection.cursor(pymysql.cursors.DictCursor) as cursor:\n",
        "            for ticker in kospi_stocks:  # Process all KOSPI stocks\n",
        "                try:\n",
        "                    # 기업 기본 정보 가져오기 (using pykrx for basic info like name)\n",
        "                    company_name = stock.get_market_ticker_name(ticker)\n",
        "\n",
        "                    # Fetch financial data from MySQL\n",
        "                    sql = \"\"\"\n",
        "                    SELECT year, sales\n",
        "                    FROM financial_data\n",
        "                    WHERE ticker = %s AND year IN (2023, 2024)\n",
        "                    ORDER BY year ASC\n",
        "                    \"\"\"\n",
        "                    cursor.execute(sql, (ticker,))\n",
        "                    financial_data = cursor.fetchall()\n",
        "\n",
        "                    sales_2023 = 0\n",
        "                    sales_2024 = 0\n",
        "                    market_cap = 0 # placeholder, ideally fetch from DB\n",
        "\n",
        "                    # Extract sales data for 2023 and 2024\n",
        "                    for row in financial_data:\n",
        "                        if row['year'] == 2023:\n",
        "                            sales_2023 = row['sales']\n",
        "                        elif row['year'] == 2024:\n",
        "                            sales_2024 = row['sales']\n",
        "\n",
        "                    # Fetch market cap (using pykrx as placeholder if not in DB)\n",
        "                    company_info = stock.get_market_cap(today, market=\"KOSPI\", ticker=ticker)\n",
        "                    if not company_info.empty:\n",
        "                         market_cap = company_info.iloc[0]['시가총액']\n",
        "\n",
        "                    # 자본금 1000억 이상 조건 (시가총액으로 대체)\n",
        "                    if market_cap < 100000000000:  # 1000억\n",
        "                        continue\n",
        "\n",
        "                    # Calculate growth rate if both years have sales data and 2023 sales is not zero\n",
        "                    growth_rate = 0\n",
        "                    if sales_2023 > 0 and sales_2024 > 0:\n",
        "                         growth_rate = ((sales_2024 - sales_2023) / sales_2023) * 100\n",
        "\n",
        "                    results.append({\n",
        "                        '종목코드': ticker,\n",
        "                        '종목명': company_name,\n",
        "                        '23년 매출액': round(sales_2023, 0),\n",
        "                        '24년 매출액': round(sales_2024, 0),\n",
        "                        '매출액 증가율': round(growth_rate, 2)\n",
        "                    })\n",
        "\n",
        "                except Exception as e:\n",
        "                    print(f\"Error processing {ticker}: {e}\")\n",
        "                    continue\n",
        "    finally:\n",
        "        connection.close()\n",
        "\n",
        "    # 매출액 증가율 기준으로 정렬하여 상위 20개 추출\n",
        "    df_results = pd.DataFrame(results)\n",
        "    if not df_results.empty:\n",
        "        df_results = df_results.sort_values('매출액 증가율', ascending=False).head(20)\n",
        "\n",
        "        print(\"\\n매출액 증가 상위 20개 기업:\")\n",
        "        print(\"-\" * 80)\n",
        "        print(df_results.to_string(index=False))\n",
        "\n",
        "        # 산업별 분석 (This part remains as a general statement)\n",
        "        print(\"\\n산업별 매출 증가세 분석:\")\n",
        "        print(\"-\" * 40)\n",
        "        print(\"반도체, IT 서비스, 바이오 등의 산업에서 두드러진 매출 증가가 관찰됩니다.\")\n",
        "        print(\"주요 요인:\")\n",
        "        print(\"1. AI 및 데이터센터 수요 증가로 인한 반도체 매출 급증\")\n",
        "        print(\"2. 디지털 전환 가속화로 인한 IT 서비스 성장\")\n",
        "        print(\"3. K-컨텐츠 글로벌 확산으로 엔터테인먼트 기업 성장\")\n",
        "    else:\n",
        "        print(\"조건에 맞는 기업 데이터를 찾지 못했습니다.\")\n",
        "\n",
        "\n",
        "problem1_sales_growth_analysis()"
      ],
      "metadata": {
        "colab": {
          "base_uri": "https://localhost:8080/",
          "height": 198
        },
        "id": "BhC1ursC_Byd",
        "outputId": "b9cc6350-e501-4c29-8c5f-67e2382cfaf5"
      },
      "execution_count": 10,
      "outputs": [
        {
          "output_type": "stream",
          "name": "stdout",
          "text": [
            "============================================================\n",
            "문제 1: KOSPI 매출액 증가 상위 20개 기업 분석\n",
            "============================================================\n",
            "데이터베이스 연결 실패 (OperationalError): (2003, \"Can't connect to MySQL server on '127.0.0.1' ([Errno 111] Connection refused)\")\n",
            "Please check:\n",
            "1. Is the MySQL server running?\n",
            "2. Are the host, user, password, and database correct?\n",
            "데이터베이스 연결에 실패했습니다.\n"
          ]
        },
        {
          "output_type": "execute_result",
          "data": {
            "text/plain": [
              "Empty DataFrame\n",
              "Columns: []\n",
              "Index: []"
            ],
            "text/html": [
              "\n",
              "  <div id=\"df-78a8c024-12f7-457e-847b-cd635b4b2443\" class=\"colab-df-container\">\n",
              "    <div>\n",
              "<style scoped>\n",
              "    .dataframe tbody tr th:only-of-type {\n",
              "        vertical-align: middle;\n",
              "    }\n",
              "\n",
              "    .dataframe tbody tr th {\n",
              "        vertical-align: top;\n",
              "    }\n",
              "\n",
              "    .dataframe thead th {\n",
              "        text-align: right;\n",
              "    }\n",
              "</style>\n",
              "<table border=\"1\" class=\"dataframe\">\n",
              "  <thead>\n",
              "    <tr style=\"text-align: right;\">\n",
              "      <th></th>\n",
              "    </tr>\n",
              "  </thead>\n",
              "  <tbody>\n",
              "  </tbody>\n",
              "</table>\n",
              "</div>\n",
              "    <div class=\"colab-df-buttons\">\n",
              "\n",
              "  <div class=\"colab-df-container\">\n",
              "    <button class=\"colab-df-convert\" onclick=\"convertToInteractive('df-78a8c024-12f7-457e-847b-cd635b4b2443')\"\n",
              "            title=\"Convert this dataframe to an interactive table.\"\n",
              "            style=\"display:none;\">\n",
              "\n",
              "  <svg xmlns=\"http://www.w3.org/2000/svg\" height=\"24px\" viewBox=\"0 -960 960 960\">\n",
              "    <path d=\"M120-120v-720h720v720H120Zm60-500h600v-160H180v160Zm220 220h160v-160H400v160Zm0 220h160v-160H400v160ZM180-400h160v-160H180v160Zm440 0h160v-160H620v160ZM180-180h160v-160H180v160Zm440 0h160v-160H620v160Z\"/>\n",
              "  </svg>\n",
              "    </button>\n",
              "\n",
              "  <style>\n",
              "    .colab-df-container {\n",
              "      display:flex;\n",
              "      gap: 12px;\n",
              "    }\n",
              "\n",
              "    .colab-df-convert {\n",
              "      background-color: #E8F0FE;\n",
              "      border: none;\n",
              "      border-radius: 50%;\n",
              "      cursor: pointer;\n",
              "      display: none;\n",
              "      fill: #1967D2;\n",
              "      height: 32px;\n",
              "      padding: 0 0 0 0;\n",
              "      width: 32px;\n",
              "    }\n",
              "\n",
              "    .colab-df-convert:hover {\n",
              "      background-color: #E2EBFA;\n",
              "      box-shadow: 0px 1px 2px rgba(60, 64, 67, 0.3), 0px 1px 3px 1px rgba(60, 64, 67, 0.15);\n",
              "      fill: #174EA6;\n",
              "    }\n",
              "\n",
              "    .colab-df-buttons div {\n",
              "      margin-bottom: 4px;\n",
              "    }\n",
              "\n",
              "    [theme=dark] .colab-df-convert {\n",
              "      background-color: #3B4455;\n",
              "      fill: #D2E3FC;\n",
              "    }\n",
              "\n",
              "    [theme=dark] .colab-df-convert:hover {\n",
              "      background-color: #434B5C;\n",
              "      box-shadow: 0px 1px 3px 1px rgba(0, 0, 0, 0.15);\n",
              "      filter: drop-shadow(0px 1px 2px rgba(0, 0, 0, 0.3));\n",
              "      fill: #FFFFFF;\n",
              "    }\n",
              "  </style>\n",
              "\n",
              "    <script>\n",
              "      const buttonEl =\n",
              "        document.querySelector('#df-78a8c024-12f7-457e-847b-cd635b4b2443 button.colab-df-convert');\n",
              "      buttonEl.style.display =\n",
              "        google.colab.kernel.accessAllowed ? 'block' : 'none';\n",
              "\n",
              "      async function convertToInteractive(key) {\n",
              "        const element = document.querySelector('#df-78a8c024-12f7-457e-847b-cd635b4b2443');\n",
              "        const dataTable =\n",
              "          await google.colab.kernel.invokeFunction('convertToInteractive',\n",
              "                                                    [key], {});\n",
              "        if (!dataTable) return;\n",
              "\n",
              "        const docLinkHtml = 'Like what you see? Visit the ' +\n",
              "          '<a target=\"_blank\" href=https://colab.research.google.com/notebooks/data_table.ipynb>data table notebook</a>'\n",
              "          + ' to learn more about interactive tables.';\n",
              "        element.innerHTML = '';\n",
              "        dataTable['output_type'] = 'display_data';\n",
              "        await google.colab.output.renderOutput(dataTable, element);\n",
              "        const docLink = document.createElement('div');\n",
              "        docLink.innerHTML = docLinkHtml;\n",
              "        element.appendChild(docLink);\n",
              "      }\n",
              "    </script>\n",
              "  </div>\n",
              "\n",
              "\n",
              "    </div>\n",
              "  </div>\n"
            ],
            "application/vnd.google.colaboratory.intrinsic+json": {
              "type": "dataframe",
              "summary": "{\n  \"name\": \"problem1_sales_growth_analysis()\",\n  \"rows\": 0,\n  \"fields\": []\n}"
            }
          },
          "metadata": {},
          "execution_count": 10
        }
      ]
    }
  ]
}