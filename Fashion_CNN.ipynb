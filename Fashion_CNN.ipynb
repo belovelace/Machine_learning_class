{
  "nbformat": 4,
  "nbformat_minor": 0,
  "metadata": {
    "colab": {
      "provenance": [],
      "gpuType": "T4",
      "authorship_tag": "ABX9TyPhni/t6/CIyTsc9ErD7owB",
      "include_colab_link": true
    },
    "kernelspec": {
      "name": "python3",
      "display_name": "Python 3"
    },
    "language_info": {
      "name": "python"
    },
    "accelerator": "GPU"
  },
  "cells": [
    {
      "cell_type": "markdown",
      "metadata": {
        "id": "view-in-github",
        "colab_type": "text"
      },
      "source": [
        "<a href=\"https://colab.research.google.com/github/belovelace/Machine_learning_class/blob/main/Fashion_CNN.ipynb\" target=\"_parent\"><img src=\"https://colab.research.google.com/assets/colab-badge.svg\" alt=\"Open In Colab\"/></a>"
      ]
    },
    {
      "cell_type": "markdown",
      "source": [
        "1. MNIST 패션 데이터 DNN으로 구현\n",
        "\n",
        "2. MNIST 패션 데이터 CNN으로 구현\n",
        "\n",
        "3. CIFAR 10 3개 분류(개, 고양이, 말)"
      ],
      "metadata": {
        "id": "mJeL-rvre1P9"
      }
    },
    {
      "cell_type": "code",
      "execution_count": 5,
      "metadata": {
        "id": "gH9A_w-VeyGp"
      },
      "outputs": [],
      "source": [
        "import tensorflow as tf\n",
        "import numpy as np\n",
        "from tensorflow.keras import layers, models\n"
      ]
    },
    {
      "cell_type": "markdown",
      "source": [
        "# 데이터 불러오기 및 정규화\n",
        "\n",
        "### 채널 차원을 추가하는 이유?\n",
        "CNN은 3차원 입력을 요구하기 때문.\n",
        "* DNN은 2차원으로 채널이 불 필요하나 CNN은 3차원.\n",
        "* CNN은 이미지 공간 구조를 유지\n",
        "\n",
        "### 흑백이여도 채널이 필요로 하는 이유?\n",
        "CNN의 필터가 3차원 구조(높이*너비*채널)로 설계되어 있어서.\n"
      ],
      "metadata": {
        "id": "XcCyDsO_fSrp"
      }
    },
    {
      "cell_type": "code",
      "source": [
        "\n",
        "# 데이터 로드\n",
        "fashion_mnist = tf.keras.datasets.fashion_mnist\n",
        "(x_train, y_train), (x_test, y_test) = fashion_mnist.load_data()\n",
        "\n",
        "# 정규화\n",
        "x_train = x_train / 255.0\n",
        "x_test = x_test / 255.0\n",
        "\n",
        "# 채널 차원 추가 (np.expand_dims 이용)\n",
        "x_train = np.expand_dims(x_train, -1)\n",
        "x_test = np.expand_dims(x_test, -1)\n",
        "\n",
        "print(\"x_train shape:\", x_train.shape)  # (60000, 28, 28, 1)\n",
        "print(\"x_test shape:\", x_test.shape)    # (10000, 28, 28, 1)"
      ],
      "metadata": {
        "colab": {
          "base_uri": "https://localhost:8080/"
        },
        "id": "4jURvwhdfU65",
        "outputId": "3ae06fb8-765a-4c93-b7d2-1d99803d218b"
      },
      "execution_count": 6,
      "outputs": [
        {
          "output_type": "stream",
          "name": "stdout",
          "text": [
            "x_train shape: (60000, 28, 28, 1)\n",
            "x_test shape: (10000, 28, 28, 1)\n"
          ]
        }
      ]
    },
    {
      "cell_type": "markdown",
      "source": [
        "# 모델 구성"
      ],
      "metadata": {
        "id": "by4H9f-_fjHT"
      }
    },
    {
      "cell_type": "code",
      "source": [
        "model = models.Sequential()\n",
        "\n",
        "# CNN 사용 시(Input 레이어 추가)\n",
        "model.add(layers.Input(shape=(28, 28, 1))) #입력: 28*28 흑백 이미지\n",
        "model.add(layers.Conv2D(64, (3, 3), activation='relu'))\n",
        "model.add(layers.MaxPooling2D((2, 2)))\n",
        "model.add(layers.Conv2D(128, (3, 3), activation='relu'))\n",
        "model.add(layers.MaxPooling2D((2, 2)))\n",
        "model.add(layers.Flatten())  # 1차원으로 변환\n",
        "model.add(layers.Dropout(0.4)) # 과적합 방지\n",
        "model.add(layers.Dense(128, activation='relu')) # 분류를 위한 은닉층\n",
        "model.add(layers.Dense(10, activation='softmax')) # 10개의 클래스 출력\n",
        "\n",
        "# 컴파일\n",
        "model.compile(optimizer='adam',\n",
        "              loss='sparse_categorical_crossentropy',\n",
        "              metrics=['accuracy'])"
      ],
      "metadata": {
        "id": "N49fN5MXf-rr"
      },
      "execution_count": 7,
      "outputs": []
    },
    {
      "cell_type": "markdown",
      "source": [
        "# 학습 및 평가"
      ],
      "metadata": {
        "id": "qmnQQtYBhu3e"
      }
    },
    {
      "cell_type": "code",
      "source": [
        "# 학습\n",
        "history = model.fit(\n",
        "    x_train, y_train,\n",
        "    epochs=10,\n",
        "    batch_size=128,\n",
        "    validation_split=0.1,\n",
        "    verbose=2\n",
        ")\n",
        "\n",
        "# 평가\n",
        "test_loss, test_acc = model.evaluate(x_test, y_test, verbose=2)\n",
        "print(f\"\\n Test Accuracy: {test_acc:.4f}\")\n",
        "\n",
        "# 예측 예시\n",
        "predictions = model.predict(x_test[:5])\n",
        "print(\"예측 결과:\", np.argmax(predictions, axis=1))\n",
        "print(\"실제 레이블:\", y_test[:5])"
      ],
      "metadata": {
        "colab": {
          "base_uri": "https://localhost:8080/"
        },
        "id": "a6oa0IYZhwHZ",
        "outputId": "95a3d13c-ecff-4f08-f5d6-1cf2bc9a5cbe"
      },
      "execution_count": 9,
      "outputs": [
        {
          "output_type": "stream",
          "name": "stdout",
          "text": [
            "Epoch 1/10\n",
            "422/422 - 3s - 6ms/step - accuracy: 0.9329 - loss: 0.1762 - val_accuracy: 0.9197 - val_loss: 0.2219\n",
            "Epoch 2/10\n",
            "422/422 - 3s - 6ms/step - accuracy: 0.9379 - loss: 0.1657 - val_accuracy: 0.9245 - val_loss: 0.2186\n",
            "Epoch 3/10\n",
            "422/422 - 3s - 6ms/step - accuracy: 0.9424 - loss: 0.1535 - val_accuracy: 0.9187 - val_loss: 0.2366\n",
            "Epoch 4/10\n",
            "422/422 - 3s - 7ms/step - accuracy: 0.9451 - loss: 0.1446 - val_accuracy: 0.9208 - val_loss: 0.2239\n",
            "Epoch 5/10\n",
            "422/422 - 3s - 6ms/step - accuracy: 0.9473 - loss: 0.1382 - val_accuracy: 0.9175 - val_loss: 0.2326\n",
            "Epoch 6/10\n",
            "422/422 - 3s - 6ms/step - accuracy: 0.9502 - loss: 0.1317 - val_accuracy: 0.9220 - val_loss: 0.2333\n",
            "Epoch 7/10\n",
            "422/422 - 3s - 6ms/step - accuracy: 0.9529 - loss: 0.1231 - val_accuracy: 0.9228 - val_loss: 0.2320\n",
            "Epoch 8/10\n",
            "422/422 - 3s - 6ms/step - accuracy: 0.9552 - loss: 0.1177 - val_accuracy: 0.9257 - val_loss: 0.2361\n",
            "Epoch 9/10\n",
            "422/422 - 3s - 7ms/step - accuracy: 0.9575 - loss: 0.1115 - val_accuracy: 0.9230 - val_loss: 0.2198\n",
            "Epoch 10/10\n",
            "422/422 - 3s - 6ms/step - accuracy: 0.9584 - loss: 0.1077 - val_accuracy: 0.9225 - val_loss: 0.2358\n",
            "313/313 - 1s - 2ms/step - accuracy: 0.9199 - loss: 0.2484\n",
            "\n",
            " Test Accuracy: 0.9199\n",
            "\u001b[1m1/1\u001b[0m \u001b[32m━━━━━━━━━━━━━━━━━━━━\u001b[0m\u001b[37m\u001b[0m \u001b[1m0s\u001b[0m 29ms/step\n",
            "예측 결과: [9 2 1 1 6]\n",
            "실제 레이블: [9 2 1 1 6]\n"
          ]
        }
      ]
    }
  ]
}