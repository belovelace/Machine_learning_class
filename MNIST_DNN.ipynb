{
  "nbformat": 4,
  "nbformat_minor": 0,
  "metadata": {
    "colab": {
      "provenance": [],
      "gpuType": "T4",
      "authorship_tag": "ABX9TyMgJueTx50Z5i6GD8k7mFvq",
      "include_colab_link": true
    },
    "kernelspec": {
      "name": "python3",
      "display_name": "Python 3"
    },
    "language_info": {
      "name": "python"
    },
    "accelerator": "GPU"
  },
  "cells": [
    {
      "cell_type": "markdown",
      "metadata": {
        "id": "view-in-github",
        "colab_type": "text"
      },
      "source": [
        "<a href=\"https://colab.research.google.com/github/belovelace/Machine_learning_class/blob/main/MNIST_DNN.ipynb\" target=\"_parent\"><img src=\"https://colab.research.google.com/assets/colab-badge.svg\" alt=\"Open In Colab\"/></a>"
      ]
    },
    {
      "cell_type": "markdown",
      "source": [
        "\n",
        "1. MNIST 패션 데이터 DNN으로 구현\n",
        "\n",
        "2. MNIST 패션 데이터 CNN으로 구현\n",
        "\n",
        "3. CIFAR 10 3개 분류(개, 고양이, 말)"
      ],
      "metadata": {
        "id": "1zzORpI5UrAt"
      }
    },
    {
      "cell_type": "code",
      "execution_count": 7,
      "metadata": {
        "id": "5a50aRxJUpvz"
      },
      "outputs": [],
      "source": [
        "import tensorflow as tf\n",
        "from tensorflow.keras import datasets, layers, models\n",
        "from tensorflow.keras.utils import to_categorical\n",
        "import numpy as np\n",
        "import matplotlib.pyplot as plt"
      ]
    },
    {
      "cell_type": "markdown",
      "source": [
        "# 픽셀 정규화"
      ],
      "metadata": {
        "id": "O-0h8RBtVYXX"
      }
    },
    {
      "cell_type": "code",
      "source": [
        "(train_images, train_labels), (test_images, test_labels) =datasets.mnist.load_data()\n",
        "train_images = train_images.reshape((60000, 28, 28, 1))\n",
        "test_images = test_images.reshape((10000, 28, 28, 1))\n",
        "\n",
        "# 픽셀 값 정규화한다 (0~1 사이)\n",
        "train_images, test_images = train_images / 255.0, test_images / 255.0"
      ],
      "metadata": {
        "id": "v_Tt9OCdVbah"
      },
      "execution_count": 8,
      "outputs": []
    },
    {
      "cell_type": "markdown",
      "source": [
        "# 모델 생성 (DNN)\n",
        "\n",
        "### layers.Dropout() 함수\n",
        "-  과적합 문제를 해결\n",
        "-  무작위로 뉴런을 비 활성화\n",
        "예) layers.Dropout(0.3) -> 무작위 30% 뉴런을 비활성화\n",
        "\n",
        "### 질문\n",
        "- 렐루 함수를 두번 만든 이유는?\n",
        "  - @claude: 복잡한 패턴 학습을 위한 것"
      ],
      "metadata": {
        "id": "Qwqb_QKjV52C"
      }
    },
    {
      "cell_type": "code",
      "source": [
        "model = models.Sequential()\n",
        "\n",
        "# CNN 사용 시\n",
        "# model.add(layers.Conv2D(32, (3, 3), activation='relu', input_shape=(28, 28, 1)))\n",
        "# model.add(layers.MaxPooling2D((2, 2)))\n",
        "# model.add(layers.Conv2D(64, (3, 3), activation='relu'))\n",
        "# model.add(layers.MaxPooling2D((2, 2)))\n",
        "\n",
        "# DNN 사용 시(최신 Keras 스타일에 맞춤)\n",
        "model.add(layers.Input(shape=(28, 28)))\n",
        "model.add(layers.Flatten())\n",
        "model.add(layers.Dense(256, activation='relu')) # 비선형성 추가\n",
        "model.add(layers.Dropout(0.3))\n",
        "model.add(layers.Dense(128, activation='relu')) #왜 두번 사용 하는가? 네트위크의 깊이?\n",
        "model.add(layers.Dropout(0.3))\n",
        "model.add(layers.Dense(10, activation='softmax'))\n",
        "\n",
        "# 컴파일\n",
        "model.compile(optimizer='adam',\n",
        "                  loss='sparse_categorical_crossentropy',\n",
        "                  metrics=['accuracy'])"
      ],
      "metadata": {
        "id": "fvrDeJSGWCL9"
      },
      "execution_count": 14,
      "outputs": []
    },
    {
      "cell_type": "markdown",
      "source": [
        "# 학습과 평가"
      ],
      "metadata": {
        "id": "tTmmsVCSZjrR"
      }
    },
    {
      "cell_type": "code",
      "source": [
        "# 학습\n",
        "history_dnn = model.fit(train_images, train_labels, epochs=10,\n",
        "                            validation_split=0.1, batch_size=128, verbose=2)\n",
        "\n",
        "# 평가\n",
        "test_loss, test_acc = model.evaluate(test_images, test_labels, verbose=2)\n",
        "print(f\"DNN Test Accuracy: {test_acc:.4f}\")"
      ],
      "metadata": {
        "colab": {
          "base_uri": "https://localhost:8080/"
        },
        "id": "tqA4N-83ZmWI",
        "outputId": "a4ddaa17-a2c1-49a5-ef17-0aa049251750"
      },
      "execution_count": 15,
      "outputs": [
        {
          "output_type": "stream",
          "name": "stdout",
          "text": [
            "Epoch 1/10\n",
            "422/422 - 6s - 15ms/step - accuracy: 0.8731 - loss: 0.4202 - val_accuracy: 0.9638 - val_loss: 0.1239\n",
            "Epoch 2/10\n",
            "422/422 - 1s - 3ms/step - accuracy: 0.9468 - loss: 0.1792 - val_accuracy: 0.9743 - val_loss: 0.0880\n",
            "Epoch 3/10\n",
            "422/422 - 1s - 3ms/step - accuracy: 0.9602 - loss: 0.1316 - val_accuracy: 0.9747 - val_loss: 0.0874\n",
            "Epoch 4/10\n",
            "422/422 - 2s - 5ms/step - accuracy: 0.9676 - loss: 0.1080 - val_accuracy: 0.9765 - val_loss: 0.0750\n",
            "Epoch 5/10\n",
            "422/422 - 1s - 3ms/step - accuracy: 0.9713 - loss: 0.0934 - val_accuracy: 0.9810 - val_loss: 0.0677\n",
            "Epoch 6/10\n",
            "422/422 - 1s - 2ms/step - accuracy: 0.9750 - loss: 0.0793 - val_accuracy: 0.9803 - val_loss: 0.0675\n",
            "Epoch 7/10\n",
            "422/422 - 1s - 2ms/step - accuracy: 0.9778 - loss: 0.0701 - val_accuracy: 0.9785 - val_loss: 0.0716\n",
            "Epoch 8/10\n",
            "422/422 - 1s - 3ms/step - accuracy: 0.9798 - loss: 0.0641 - val_accuracy: 0.9823 - val_loss: 0.0632\n",
            "Epoch 9/10\n",
            "422/422 - 1s - 3ms/step - accuracy: 0.9814 - loss: 0.0574 - val_accuracy: 0.9822 - val_loss: 0.0601\n",
            "Epoch 10/10\n",
            "422/422 - 1s - 2ms/step - accuracy: 0.9831 - loss: 0.0523 - val_accuracy: 0.9830 - val_loss: 0.0611\n",
            "313/313 - 2s - 5ms/step - accuracy: 0.9804 - loss: 0.0699\n",
            "DNN Test Accuracy: 0.9804\n"
          ]
        }
      ]
    }
  ]
}