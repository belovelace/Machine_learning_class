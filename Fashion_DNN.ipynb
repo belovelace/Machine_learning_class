{
  "nbformat": 4,
  "nbformat_minor": 0,
  "metadata": {
    "colab": {
      "provenance": [],
      "gpuType": "T4",
      "authorship_tag": "ABX9TyMmEA+xsrSlxlo6L3hiBKRM",
      "include_colab_link": true
    },
    "kernelspec": {
      "name": "python3",
      "display_name": "Python 3"
    },
    "language_info": {
      "name": "python"
    },
    "accelerator": "GPU"
  },
  "cells": [
    {
      "cell_type": "markdown",
      "metadata": {
        "id": "view-in-github",
        "colab_type": "text"
      },
      "source": [
        "<a href=\"https://colab.research.google.com/github/belovelace/Machine_learning_class/blob/main/Fashion_DNN.ipynb\" target=\"_parent\"><img src=\"https://colab.research.google.com/assets/colab-badge.svg\" alt=\"Open In Colab\"/></a>"
      ]
    },
    {
      "cell_type": "markdown",
      "source": [
        "\n",
        "1. MNIST 패션 데이터 DNN으로 구현\n",
        "\n",
        "2. MNIST 패션 데이터 CNN으로 구현\n",
        "\n",
        "3. CIFAR 10 3개 분류(개, 고양이, 말)\n",
        "\n",
        "# CNN이 DNN보다 성능이 우수하다."
      ],
      "metadata": {
        "id": "Xn3q0N_MkbQl"
      }
    },
    {
      "cell_type": "code",
      "execution_count": 1,
      "metadata": {
        "id": "n8HFyZKPkWsT"
      },
      "outputs": [],
      "source": [
        "import tensorflow as tf\n",
        "from tensorflow.keras import datasets, layers, models\n",
        "from tensorflow.keras.utils import to_categorical\n",
        "import numpy as np\n",
        "import matplotlib.pyplot as plt"
      ]
    },
    {
      "cell_type": "markdown",
      "source": [
        "# 데이터 불러오기"
      ],
      "metadata": {
        "id": "8dxsgjR4kg2p"
      }
    },
    {
      "cell_type": "code",
      "source": [
        "\n",
        "# 데이터 로드\n",
        "fashion_mnist = tf.keras.datasets.fashion_mnist\n",
        "(x_train, y_train), (x_test, y_test) = fashion_mnist.load_data()\n",
        "\n",
        "# 정규화\n",
        "x_train = x_train / 255.0\n",
        "x_test = x_test / 255.0\n",
        "\n",
        "# 채널 차원 추가 (np.expand_dims 이용)\n",
        "x_train = np.expand_dims(x_train, -1)\n",
        "x_test = np.expand_dims(x_test, -1)\n",
        "\n",
        "print(\"x_train shape:\", x_train.shape)  # (60000, 28, 28, 1)\n",
        "print(\"x_test shape:\", x_test.shape)    # (10000, 28, 28, 1)"
      ],
      "metadata": {
        "colab": {
          "base_uri": "https://localhost:8080/"
        },
        "id": "E5SKLXmtkdpw",
        "outputId": "3779cfa5-1af4-456a-d515-b204733cae6c"
      },
      "execution_count": 2,
      "outputs": [
        {
          "output_type": "stream",
          "name": "stdout",
          "text": [
            "Downloading data from https://storage.googleapis.com/tensorflow/tf-keras-datasets/train-labels-idx1-ubyte.gz\n",
            "\u001b[1m29515/29515\u001b[0m \u001b[32m━━━━━━━━━━━━━━━━━━━━\u001b[0m\u001b[37m\u001b[0m \u001b[1m0s\u001b[0m 0us/step\n",
            "Downloading data from https://storage.googleapis.com/tensorflow/tf-keras-datasets/train-images-idx3-ubyte.gz\n",
            "\u001b[1m26421880/26421880\u001b[0m \u001b[32m━━━━━━━━━━━━━━━━━━━━\u001b[0m\u001b[37m\u001b[0m \u001b[1m0s\u001b[0m 0us/step\n",
            "Downloading data from https://storage.googleapis.com/tensorflow/tf-keras-datasets/t10k-labels-idx1-ubyte.gz\n",
            "\u001b[1m5148/5148\u001b[0m \u001b[32m━━━━━━━━━━━━━━━━━━━━\u001b[0m\u001b[37m\u001b[0m \u001b[1m0s\u001b[0m 0us/step\n",
            "Downloading data from https://storage.googleapis.com/tensorflow/tf-keras-datasets/t10k-images-idx3-ubyte.gz\n",
            "\u001b[1m4422102/4422102\u001b[0m \u001b[32m━━━━━━━━━━━━━━━━━━━━\u001b[0m\u001b[37m\u001b[0m \u001b[1m0s\u001b[0m 0us/step\n",
            "x_train shape: (60000, 28, 28, 1)\n",
            "x_test shape: (10000, 28, 28, 1)\n"
          ]
        }
      ]
    },
    {
      "cell_type": "markdown",
      "source": [
        "# 모델 구성"
      ],
      "metadata": {
        "id": "Xp0Md-KHkmBv"
      }
    },
    {
      "cell_type": "code",
      "source": [
        "model = models.Sequential()\n",
        "\n",
        "# DNN 사용 시\n",
        "model.add(layers.Input(shape=(28, 28)))\n",
        "model.add(layers.Flatten())\n",
        "model.add(layers.Dense(256, activation='relu')) # 비선형성 추가\n",
        "model.add(layers.Dropout(0.3))\n",
        "model.add(layers.Dense(128, activation='relu'))\n",
        "model.add(layers.Dropout(0.3))\n",
        "model.add(layers.Dense(10, activation='softmax'))\n",
        "\n",
        "\n",
        "# 컴파일\n",
        "model.compile(optimizer='adam',\n",
        "              loss='sparse_categorical_crossentropy',\n",
        "              metrics=['accuracy'])"
      ],
      "metadata": {
        "id": "JyUhESZ3kn__"
      },
      "execution_count": 3,
      "outputs": []
    },
    {
      "cell_type": "markdown",
      "source": [
        "# 학습 및 평가"
      ],
      "metadata": {
        "id": "aH_lIV7CosRx"
      }
    },
    {
      "cell_type": "code",
      "source": [
        "# 학습\n",
        "history = model.fit(\n",
        "    x_train, y_train,\n",
        "    epochs=10,\n",
        "    batch_size=128,\n",
        "    validation_split=0.1,\n",
        "    verbose=2\n",
        ")\n",
        "\n",
        "# 평가\n",
        "test_loss, test_acc = model.evaluate(x_test, y_test, verbose=2)\n",
        "print(f\"\\n Test Accuracy: {test_acc:.4f}\")\n",
        "\n",
        "# 예측 예시\n",
        "predictions = model.predict(x_test[:5])\n",
        "print(\"예측 결과:\", np.argmax(predictions, axis=1))\n",
        "print(\"실제 레이블:\", y_test[:5])"
      ],
      "metadata": {
        "colab": {
          "base_uri": "https://localhost:8080/"
        },
        "id": "J6WEK4HUotxw",
        "outputId": "7f67f68a-0fe2-4bea-d224-f2b4d4da4e43"
      },
      "execution_count": 4,
      "outputs": [
        {
          "output_type": "stream",
          "name": "stdout",
          "text": [
            "Epoch 1/10\n",
            "422/422 - 8s - 18ms/step - accuracy: 0.7738 - loss: 0.6310 - val_accuracy: 0.8498 - val_loss: 0.4122\n",
            "Epoch 2/10\n",
            "422/422 - 1s - 2ms/step - accuracy: 0.8408 - loss: 0.4420 - val_accuracy: 0.8650 - val_loss: 0.3820\n",
            "Epoch 3/10\n",
            "422/422 - 1s - 2ms/step - accuracy: 0.8544 - loss: 0.3990 - val_accuracy: 0.8705 - val_loss: 0.3527\n",
            "Epoch 4/10\n",
            "422/422 - 1s - 3ms/step - accuracy: 0.8628 - loss: 0.3772 - val_accuracy: 0.8660 - val_loss: 0.3536\n",
            "Epoch 5/10\n",
            "422/422 - 1s - 3ms/step - accuracy: 0.8692 - loss: 0.3575 - val_accuracy: 0.8795 - val_loss: 0.3286\n",
            "Epoch 6/10\n",
            "422/422 - 1s - 2ms/step - accuracy: 0.8750 - loss: 0.3414 - val_accuracy: 0.8772 - val_loss: 0.3377\n",
            "Epoch 7/10\n",
            "422/422 - 1s - 3ms/step - accuracy: 0.8780 - loss: 0.3322 - val_accuracy: 0.8803 - val_loss: 0.3215\n",
            "Epoch 8/10\n",
            "422/422 - 2s - 4ms/step - accuracy: 0.8802 - loss: 0.3261 - val_accuracy: 0.8843 - val_loss: 0.3182\n",
            "Epoch 9/10\n",
            "422/422 - 1s - 3ms/step - accuracy: 0.8843 - loss: 0.3146 - val_accuracy: 0.8810 - val_loss: 0.3231\n",
            "Epoch 10/10\n",
            "422/422 - 1s - 3ms/step - accuracy: 0.8860 - loss: 0.3089 - val_accuracy: 0.8858 - val_loss: 0.3084\n",
            "313/313 - 2s - 5ms/step - accuracy: 0.8815 - loss: 0.3299\n",
            "\n",
            " Test Accuracy: 0.8815\n",
            "\u001b[1m1/1\u001b[0m \u001b[32m━━━━━━━━━━━━━━━━━━━━\u001b[0m\u001b[37m\u001b[0m \u001b[1m0s\u001b[0m 329ms/step\n",
            "예측 결과: [9 2 1 1 6]\n",
            "실제 레이블: [9 2 1 1 6]\n"
          ]
        }
      ]
    }
  ]
}